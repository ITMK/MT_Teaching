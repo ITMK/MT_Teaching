{
 "cells": [
  {
   "cell_type": "markdown",
   "metadata": {},
   "source": [
    "# Understanding Word Embeddings for Neural Machine Translation – Exploring the Google News Model"
   ]
  },
  {
   "cell_type": "markdown",
   "metadata": {},
   "source": [
    "In this notebook, you can further explore word embeddings for NMT based on a much larger model than in the previous notebook concerned with the fundamentals of word embeddings (which we'll call the *base notebook* from now on). Here, we'll explore Google's gigantic News model, which contains a lot more words, a much larger vocabulary and a higher vector dimensionality than the glove-wiki-gigaword-100 model explored in the base notebook. Accordingly, the Google News model captures more and more fine-grained semantic relations between the words in the model. Also, compared to the gigaword model in the base notebook, you can also query the Google News model for multi-word phrases by using an underscore, e.g., *New_York*.  \n",
    "\n",
    "The code cells for exploring the model will remain unchanged, but the documentation will be much less explicit, since you are already familiar with the basic idea of word embeddings and word embedding models. You can always consult the base notebook for reference purposes."
   ]
  },
  {
   "cell_type": "markdown",
   "metadata": {},
   "source": [
    "## 0 Housekeeping\n",
    "First, we run the same housekeeping steps as we did in the base notebook."
   ]
  },
  {
   "cell_type": "code",
   "execution_count": null,
   "metadata": {},
   "outputs": [],
   "source": [
    "# Upgrade to the newest version of pip and install or upgrade the gensim library (if necessary)\n",
    "!pip install --upgrade pip\n",
    "!pip install --upgrade gensim"
   ]
  },
  {
   "cell_type": "markdown",
   "metadata": {},
   "source": [
    "In this notebook, we'll use the pretrained word2vec-google-news-300 model, which is also provided in the [gensim-data](https://github.com/RaRe-Technologies/gensim-data) repository. Since this model was originally trained using word2vec, no prior GloVe → word2vec conversion was necessary in this case. The word2vec-google-news-300 model contains about 100 billion(!) words from the Google News dataset and a vocabulary of about 3 million unique words and phrases. The corresponding vectors have a dimensionality of 300. The model size is about 1.66 GB, so loading it will take quite some time. With an internet connection speed of 500 mbps, loading the model takes about 10 minutes. So, run the code below and grab a coffee or two."
   ]
  },
  {
   "cell_type": "code",
   "execution_count": 1,
   "metadata": {},
   "outputs": [
    {
     "name": "stdout",
     "output_type": "stream",
     "text": [
      "[==================================================] 100.0% 1662.8/1662.8MB downloaded\n",
      "420.53125\n"
     ]
    }
   ],
   "source": [
    "# Import the pretrained word2vec-google-news-300 model from gensim-data and store it in 'word_embeddings'\n",
    "import gensim.downloader as api\n",
    "\n",
    "word_embeddings = api.load('word2vec-google-news-300')"
   ]
  },
  {
   "cell_type": "markdown",
   "metadata": {},
   "source": [
    "It took a while, but now you're ready to go!"
   ]
  },
  {
   "cell_type": "markdown",
   "metadata": {},
   "source": [
    "## 1 Exploring the Google News model\n",
    "Recall that the embedding matrix of a word embedding model is the product of the vocabulary size and the dimensionality of the embedding vectors. So, the size of our embedding matrix is $3.000.000\\;x\\;300 = 900.000.000$. In other words, the Google News model has an embedding matrix size of 900 million!"
   ]
  },
  {
   "cell_type": "code",
   "execution_count": 2,
   "metadata": {},
   "outputs": [
    {
     "data": {
      "text/plain": [
       "['</s>',\n",
       " 'in',\n",
       " 'for',\n",
       " 'that',\n",
       " 'is',\n",
       " 'on',\n",
       " '##',\n",
       " 'The',\n",
       " 'with',\n",
       " 'said',\n",
       " 'was',\n",
       " 'the',\n",
       " 'at',\n",
       " 'not',\n",
       " 'as',\n",
       " 'it',\n",
       " 'be',\n",
       " 'from',\n",
       " 'by',\n",
       " 'are',\n",
       " 'I',\n",
       " 'have',\n",
       " 'he',\n",
       " 'will',\n",
       " 'has',\n",
       " '####',\n",
       " 'his',\n",
       " 'an',\n",
       " 'this',\n",
       " 'or',\n",
       " 'their',\n",
       " 'who',\n",
       " 'they',\n",
       " 'but',\n",
       " '$',\n",
       " 'had',\n",
       " 'year',\n",
       " 'were',\n",
       " 'we',\n",
       " 'more',\n",
       " '###',\n",
       " 'up',\n",
       " 'been',\n",
       " 'you',\n",
       " 'its',\n",
       " 'one',\n",
       " 'about',\n",
       " 'would',\n",
       " 'which',\n",
       " 'out',\n",
       " 'can',\n",
       " 'It',\n",
       " 'all',\n",
       " 'also',\n",
       " 'two',\n",
       " 'after',\n",
       " 'first',\n",
       " 'He',\n",
       " 'do',\n",
       " 'time',\n",
       " 'than',\n",
       " 'when',\n",
       " 'We',\n",
       " 'over',\n",
       " 'last',\n",
       " 'new',\n",
       " 'other',\n",
       " 'her',\n",
       " 'people',\n",
       " 'into',\n",
       " 'In',\n",
       " 'our',\n",
       " 'there',\n",
       " 'A',\n",
       " 'she',\n",
       " 'could',\n",
       " 'just',\n",
       " 'years',\n",
       " 'some',\n",
       " 'U.S.',\n",
       " 'three',\n",
       " 'million',\n",
       " 'them',\n",
       " 'what',\n",
       " 'But',\n",
       " 'so',\n",
       " 'no',\n",
       " 'like',\n",
       " 'if',\n",
       " 'only',\n",
       " 'percent',\n",
       " 'get',\n",
       " 'did',\n",
       " 'him',\n",
       " 'game',\n",
       " 'back',\n",
       " 'because',\n",
       " 'now',\n",
       " '#.#',\n",
       " 'before',\n",
       " 'company',\n",
       " 'any',\n",
       " 'team',\n",
       " 'against',\n",
       " 'off',\n",
       " 'This',\n",
       " 'most',\n",
       " 'made',\n",
       " 'through',\n",
       " 'make',\n",
       " 'second',\n",
       " 'state',\n",
       " 'well',\n",
       " 'day',\n",
       " 'season',\n",
       " 'says',\n",
       " 'week',\n",
       " 'where',\n",
       " 'while',\n",
       " 'down',\n",
       " 'being',\n",
       " 'government',\n",
       " 'your',\n",
       " '#-#',\n",
       " 'home',\n",
       " 'going',\n",
       " 'my',\n",
       " 'good',\n",
       " 'They',\n",
       " \"'re\",\n",
       " 'should',\n",
       " 'many',\n",
       " 'way',\n",
       " 'those',\n",
       " 'four',\n",
       " 'during',\n",
       " 'such',\n",
       " 'may',\n",
       " 'very',\n",
       " 'how',\n",
       " 'since',\n",
       " 'work',\n",
       " 'take',\n",
       " 'including',\n",
       " 'high',\n",
       " 'then',\n",
       " '%',\n",
       " 'next',\n",
       " '#,###',\n",
       " 'By']"
      ]
     },
     "execution_count": 2,
     "metadata": {},
     "output_type": "execute_result"
    }
   ],
   "source": [
    "# Generate a list of the 150 most frequent words in the model\n",
    "word_embeddings.index2entity[:150]"
   ]
  },
  {
   "cell_type": "markdown",
   "metadata": {},
   "source": [
    "## 2 Exploring individual word vectors\n",
    "When we query our  model/embedding matrix as a look-up table, it will return an array of 300 floating point numbers, corresponding to a 300-dimensional vector. In the code cell below, we ask the model to give us the word vector for the multi-word unit *New York*. Remember that the underscore _ is used when you want to query the model for such multi-word units. Again, feel free to modify the code in order to explore other word vectors in the model."
   ]
  },
  {
   "cell_type": "code",
   "execution_count": 4,
   "metadata": {},
   "outputs": [
    {
     "data": {
      "text/plain": [
       "array([-0.02905273,  0.06689453, -0.35546875, -0.02502441, -0.23339844,\n",
       "        0.04174805, -0.25      , -0.02807617,  0.13476562, -0.03320312,\n",
       "       -0.1484375 ,  0.21972656,  0.14453125, -0.10644531,  0.1328125 ,\n",
       "        0.07568359, -0.06030273,  0.0625    ,  0.00714111,  0.0168457 ,\n",
       "       -0.12597656, -0.09082031,  0.06054688,  0.06738281,  0.15429688,\n",
       "        0.34765625, -0.03588867,  0.13671875, -0.41796875,  0.14160156,\n",
       "        0.10498047,  0.01208496, -0.17871094,  0.12890625,  0.03564453,\n",
       "        0.11328125,  0.05224609,  0.0234375 , -0.11865234,  0.12451172,\n",
       "        0.03417969, -0.05273438,  0.13964844, -0.11083984, -0.09814453,\n",
       "        0.27148438,  0.07080078,  0.01574707,  0.21289062,  0.14648438,\n",
       "        0.18457031,  0.10058594,  0.20507812, -0.00674438, -0.14941406,\n",
       "        0.04150391,  0.07568359, -0.13183594, -0.17382812, -0.31445312,\n",
       "       -0.02478027,  0.09814453,  0.12353516,  0.02770996,  0.27148438,\n",
       "        0.03393555, -0.03686523,  0.23242188,  0.10107422,  0.00476074,\n",
       "       -0.15820312,  0.09765625, -0.00270081,  0.09082031, -0.09033203,\n",
       "        0.01312256, -0.04296875,  0.14746094,  0.06445312,  0.05981445,\n",
       "       -0.09667969,  0.08935547,  0.22265625, -0.26953125, -0.13476562,\n",
       "       -0.05493164,  0.16210938, -0.08105469, -0.11669922, -0.1796875 ,\n",
       "        0.16992188,  0.14355469, -0.21191406, -0.23242188, -0.05175781,\n",
       "        0.08984375,  0.05664062,  0.11669922, -0.38476562, -0.06542969,\n",
       "        0.08544922, -0.08349609, -0.05029297, -0.00282288,  0.03344727,\n",
       "       -0.22265625,  0.03540039,  0.04638672, -0.17480469, -0.203125  ,\n",
       "       -0.02490234,  0.1484375 , -0.28320312, -0.15332031,  0.09082031,\n",
       "        0.05200195,  0.01916504, -0.05664062,  0.31445312,  0.07568359,\n",
       "       -0.30859375, -0.18945312, -0.16601562,  0.1484375 ,  0.35742188,\n",
       "       -0.16699219, -0.00765991,  0.02209473, -0.15820312,  0.12207031,\n",
       "       -0.00878906, -0.14355469, -0.03808594, -0.09912109, -0.12695312,\n",
       "       -0.03955078, -0.10351562,  0.0324707 , -0.02282715, -0.0014267 ,\n",
       "        0.10595703,  0.109375  , -0.04760742, -0.18847656,  0.33203125,\n",
       "        0.05322266, -0.10644531,  0.06201172, -0.02294922,  0.12353516,\n",
       "        0.11474609, -0.07470703,  0.09863281, -0.03125   ,  0.2578125 ,\n",
       "       -0.18164062, -0.18457031,  0.03442383, -0.00897217,  0.06396484,\n",
       "       -0.09960938, -0.14160156,  0.30273438,  0.25195312,  0.125     ,\n",
       "       -0.02648926,  0.11279297, -0.23144531,  0.10400391,  0.11865234,\n",
       "       -0.2734375 , -0.19238281, -0.06103516,  0.01953125, -0.02233887,\n",
       "        0.03735352,  0.11914062, -0.08251953, -0.11767578, -0.1640625 ,\n",
       "        0.04321289, -0.07519531,  0.02929688, -0.0291748 ,  0.12304688,\n",
       "        0.01660156, -0.05175781,  0.07714844,  0.18457031, -0.01806641,\n",
       "        0.17773438, -0.10693359,  0.13964844,  0.04345703, -0.28515625,\n",
       "        0.05566406, -0.04150391, -0.16894531,  0.08203125, -0.22753906,\n",
       "        0.09130859, -0.00102234,  0.08300781,  0.11816406, -0.06787109,\n",
       "       -0.00169373, -0.15136719,  0.31445312, -0.20898438, -0.00192261,\n",
       "       -0.31445312, -0.19335938,  0.01135254, -0.00598145, -0.16796875,\n",
       "        0.2734375 , -0.1640625 ,  0.234375  ,  0.11425781, -0.1875    ,\n",
       "        0.04711914, -0.08496094, -0.06787109, -0.09521484,  0.0534668 ,\n",
       "        0.14160156,  0.00662231,  0.16992188, -0.08740234, -0.1171875 ,\n",
       "       -0.09033203,  0.21777344,  0.07177734,  0.08886719, -0.00068283,\n",
       "       -0.07861328, -0.234375  ,  0.10205078, -0.00254822,  0.05615234,\n",
       "        0.23828125, -0.21386719, -0.07177734,  0.1015625 , -0.12011719,\n",
       "       -0.04907227,  0.10693359, -0.046875  ,  0.13183594, -0.1640625 ,\n",
       "        0.08251953, -0.00759888, -0.16210938, -0.15136719,  0.05273438,\n",
       "       -0.08203125,  0.109375  , -0.05395508, -0.06738281,  0.08349609,\n",
       "        0.18554688,  0.203125  ,  0.20507812,  0.02038574,  0.1875    ,\n",
       "        0.265625  , -0.01940918, -0.2265625 ,  0.00830078, -0.01403809,\n",
       "       -0.05712891,  0.20507812,  0.08789062, -0.02832031,  0.16015625,\n",
       "        0.03442383, -0.21875   ,  0.29101562, -0.140625  ,  0.03613281,\n",
       "       -0.0625    ,  0.2109375 , -0.02819824, -0.00393677, -0.14453125,\n",
       "       -0.09570312, -0.23828125,  0.08007812, -0.01586914, -0.07080078,\n",
       "        0.02124023, -0.25390625, -0.10839844,  0.06054688,  0.04663086,\n",
       "       -0.01098633, -0.03222656, -0.06298828, -0.16601562, -0.09814453],\n",
       "      dtype=float32)"
      ]
     },
     "execution_count": 4,
     "metadata": {},
     "output_type": "execute_result"
    }
   ],
   "source": [
    "# Display individual word vectors\n",
    "word_embeddings['New_York']"
   ]
  },
  {
   "cell_type": "markdown",
   "metadata": {},
   "source": [
    "As mentioned in the base notebook, the standard transformer architecture for NMT works with a vector dimensionality of 512, so the vector representations in these systems will still be bigger than the vector representations in our big Google News model."
   ]
  },
  {
   "cell_type": "markdown",
   "metadata": {},
   "source": [
    "## 3 Exploring the most similar words\n",
    "Exploring the most similar words require some heavy calculation on the part of our model, so don't be surprised if the notebook will be busy for a minute or two (it will be much quicker for subsequent processes). If you query the model for the words most similar to *father*, you'll see that the list now also contains a multi-word unit (*eldest_son*)."
   ]
  },
  {
   "cell_type": "code",
   "execution_count": 5,
   "metadata": {},
   "outputs": [
    {
     "data": {
      "text/plain": [
       "[('son', 0.8933086395263672),\n",
       " ('uncle', 0.8542661666870117),\n",
       " ('brother', 0.8240807056427002),\n",
       " ('grandfather', 0.8048632144927979),\n",
       " ('dad', 0.8040657043457031),\n",
       " ('mother', 0.7901483178138733),\n",
       " ('nephew', 0.7880790829658508),\n",
       " ('stepfather', 0.7810977697372437),\n",
       " ('eldest_son', 0.7770525217056274),\n",
       " ('grandson', 0.7620671987533569)]"
      ]
     },
     "execution_count": 5,
     "metadata": {},
     "output_type": "execute_result"
    }
   ],
   "source": [
    "# Query the model for the words most similar to the word 'father'\n",
    "word_embeddings.most_similar('father')"
   ]
  },
  {
   "cell_type": "markdown",
   "metadata": {},
   "source": [
    "## 4 Exploring the least similar words\n",
    "Again, you can also query the model for words most dissimilar to another word, but the results may not make that much sense to us."
   ]
  },
  {
   "cell_type": "code",
   "execution_count": 11,
   "metadata": {},
   "outputs": [
    {
     "data": {
      "text/plain": [
       "[('ET_##Jan####_Citi', 0.3044481873512268),\n",
       " ('Earnings_Preview_Electronic_Arts', 0.2963859736919403),\n",
       " ('etwcf', 0.29510563611984253),\n",
       " ('IF_SEPT', 0.294572651386261),\n",
       " ('----------------------------------------------------------_RESEARCH',\n",
       "  0.29373371601104736),\n",
       " ('RELATED_RESEARCH', 0.29324930906295776),\n",
       " ('Globalization_KEY_FACTORS', 0.2922849655151367),\n",
       " ('nLU######', 0.2914973795413971),\n",
       " ('INDUSTRY_SECTOR', 0.2887684106826782),\n",
       " ('By_JOE_CREWS', 0.2854382395744324)]"
      ]
     },
     "execution_count": 11,
     "metadata": {},
     "output_type": "execute_result"
    }
   ],
   "source": [
    "# Using the parameter 'negative=' reverses the most.similar() function\n",
    "word_embeddings.most_similar(negative=['father'])"
   ]
  },
  {
   "cell_type": "markdown",
   "metadata": {},
   "source": [
    "## 5 Calculating the similarity between two specific words"
   ]
  },
  {
   "cell_type": "code",
   "execution_count": 9,
   "metadata": {},
   "outputs": [
    {
     "data": {
      "text/plain": [
       "0.78807914"
      ]
     },
     "execution_count": 9,
     "metadata": {},
     "output_type": "execute_result"
    }
   ],
   "source": [
    "# Calculate semantic similarity between words using the similarity() function\n",
    "word_embeddings.similarity('father', 'nephew')"
   ]
  },
  {
   "cell_type": "markdown",
   "metadata": {},
   "source": [
    "## 6 Identifying semantic outliers"
   ]
  },
  {
   "cell_type": "code",
   "execution_count": 9,
   "metadata": {},
   "outputs": [
    {
     "data": {
      "text/plain": [
       "'car'"
      ]
     },
     "execution_count": 9,
     "metadata": {},
     "output_type": "execute_result"
    }
   ],
   "source": [
    "# Identify semantic outliers using the doesnt_match() function\n",
    "word_embeddings.doesnt_match(['father', 'mother', 'uncle', 'car'])"
   ]
  },
  {
   "cell_type": "markdown",
   "metadata": {},
   "source": [
    "## 7 Identifying analogies\n",
    "As in the model used in the base notebook, analogy identification does not work that well even in our bigger Google News model. For example, if we use 'Germany' is to 'Berlin' as 'France' is to '?', the model will not output the correct city. You can have a go and try to come up with examples where the model will identify the correct analogy."
   ]
  },
  {
   "cell_type": "code",
   "execution_count": 14,
   "metadata": {},
   "outputs": [
    {
     "data": {
      "text/plain": [
       "[('Munich', 0.6406168937683105),\n",
       " ('Hamburg', 0.6122549772262573),\n",
       " ('Dusseldorf', 0.610721230506897)]"
      ]
     },
     "execution_count": 14,
     "metadata": {},
     "output_type": "execute_result"
    }
   ],
   "source": [
    "# Identify top 3 analogy candidates\n",
    "word_embeddings.most_similar(['Germany', 'Berlin'], ['France'], topn=3)"
   ]
  },
  {
   "cell_type": "markdown",
   "metadata": {},
   "source": [
    "## 8 Visualizing word embeddings using t-SNE\n",
    "Run the code below to import the libraries required for visualising the word embeddings in the model."
   ]
  },
  {
   "cell_type": "code",
   "execution_count": 15,
   "metadata": {},
   "outputs": [],
   "source": [
    "# Import the libraries required to perform t-SNE dimensionality reductions and visualizations\n",
    "import numpy as np\n",
    "import matplotlib.pyplot as plt\n",
    " \n",
    "from sklearn.manifold import TSNE"
   ]
  },
  {
   "cell_type": "markdown",
   "metadata": {},
   "source": [
    "In the code cell below, you can manipulate the argument *topn=30* in the fourth line of code from the top in order  to determine the number of words to be plotted. If the function is called without the *topn* argument, the standard value will be 10 (see the base notebook). "
   ]
  },
  {
   "cell_type": "code",
   "execution_count": 25,
   "metadata": {},
   "outputs": [],
   "source": [
    "# Define a function which displays our word embeddings in a two-dimensional scatter plot\n",
    "def display_tsne_reduction(model, word):\n",
    "    \n",
    "    arr = np.empty((0,300), dtype='float')\n",
    "    word_labels = [word]\n",
    "\n",
    "    # Get the words most similar to our input word\n",
    "    similar_words = model.similar_by_word(word, topn=30)\n",
    "    \n",
    "    # Add the vector for each of these words to an array\n",
    "    arr = np.append(arr, np.array([model[word]]), axis=0)\n",
    "    for wrd_score in similar_words:\n",
    "        wrd_vector = model[wrd_score[0]]\n",
    "        word_labels.append(wrd_score[0])\n",
    "        arr = np.append(arr, np.array([wrd_vector]), axis=0)\n",
    "        \n",
    "    # Calculate the t-SNE coordinates for 2 dimensions\n",
    "    tsne = TSNE(n_components=2, random_state=0)\n",
    "    np.set_printoptions(suppress=True)\n",
    "    Y = tsne.fit_transform(arr)\n",
    "\n",
    "    x_coords = Y[:, 0]\n",
    "    y_coords = Y[:, 1]\n",
    "    \n",
    "    # Define the visiual representation of our scatter plot\n",
    "    plt.scatter(x_coords, y_coords)\n",
    "\n",
    "    for label, x, y in zip(word_labels, x_coords, y_coords):\n",
    "        plt.annotate(label, xy=(x, y), xytext=(0, 0), textcoords='offset points')\n",
    "    plt.xlim(x_coords.min()+0.00005, x_coords.max()+0.00005)\n",
    "    plt.ylim(y_coords.min()+0.00005, y_coords.max()+0.00005)\n",
    "    plt.show()"
   ]
  },
  {
   "cell_type": "markdown",
   "metadata": {},
   "source": [
    "Run the following code to visualize the top *n* words which exhibited the closest proximity to the word passed as second argument to the *display_tsne_reduction()* function."
   ]
  },
  {
   "cell_type": "code",
   "execution_count": 30,
   "metadata": {},
   "outputs": [
    {
     "data": {
      "image/png": "[encoded data removed]",
      "text/plain": [
       "<Figure size 432x288 with 1 Axes>"
      ]
     },
     "metadata": {
      "needs_background": "light"
     },
     "output_type": "display_data"
    }
   ],
   "source": [
    "# Display word embeddings in two-dimensional space\n",
    "display_tsne_reduction(word_embeddings, 'father')"
   ]
  },
  {
   "cell_type": "markdown",
   "metadata": {},
   "source": [
    "## 9 Tips for further reading\n",
    "The reading tips are the same as in the base notebook. If you read through the tips listed here, you'll acquire a profound understanding of the concepts covered in the two notebooks.  \n",
    "- [Alammar, Jay (2019): The Illustrated Word2vec](http://jalammar.github.io/illustrated-word2vec/)\n",
    "- [Collis, Jaron (2017): Glossary of Deep Learning: Word Embeddings](https://medium.com/deeper-learning/glossary-of-deep-learning-word-embedding-f90c3cec34ca)  \n",
    "- [Jedamski, Derek (2020): Advanced NLP with Python for Machine Learning](https://www.linkedin.com/learning/advanced-nlp-with-python-for-machine-learning), LinkedIn Learning course (free for students of TH Köln)\n",
    "- [McCormick, Chris (2016): Word2Vec Tutorial - The Skip-Gram Model](http://mccormickml.com/2016/04/19/word2vec-tutorial-the-skip-gram-model/)  \n",
    "- [McCormick, Chris (2017): Word2Vec Tutorial Part 2 - Negative Sampling](http://mccormickml.com/2017/01/11/word2vec-tutorial-part-2-negative-sampling/)\n",
    "-[official gensim documentation](https://radimrehurek.com/gensim/auto_examples/core/run_core_concepts.html)"
   ]
  }
 ],
 "metadata": {
  "kernelspec": {
   "display_name": "Python 3",
   "language": "python",
   "name": "python3"
  },
  "language_info": {
   "codemirror_mode": {
    "name": "ipython",
    "version": 3
   },
   "file_extension": ".py",
   "mimetype": "text/x-python",
   "name": "python",
   "nbconvert_exporter": "python",
   "pygments_lexer": "ipython3",
   "version": "3.8.5"
  }
 },
 "nbformat": 4,
 "nbformat_minor": 4
}
